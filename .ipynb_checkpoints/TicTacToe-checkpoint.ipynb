{
 "cells": [
  {
   "cell_type": "code",
   "execution_count": 1,
   "metadata": {},
   "outputs": [],
   "source": [
    "from IPython.display import clear_output\n",
    "\n",
    "def reset():\n",
    "    clear_output()\n",
    "    global board\n",
    "    board = [' ',' ',' ',' ',' ',' ',' ',' ',' ']\n",
    "    global turn\n",
    "    turn=1\n",
    "    global replay\n",
    "    replay=''\n",
    "    hajime()\n",
    "    \n",
    "def display_board(board):\n",
    "    print('     |   |  ')\n",
    "    print(f'   {board[0]} | {board[1]} | {board[2]}')\n",
    "    print('     |   |  ')\n",
    "    print('---------------')\n",
    "    print('     |   |  ')\n",
    "    print(f'   {board[3]} | {board[4]} | {board[5]}')\n",
    "    print('     |   |  ')\n",
    "    print('---------------')\n",
    "    print('     |   |  ')\n",
    "    print(f'   {board[6]} | {board[7]} | {board[8]}')\n",
    "    print('     |   |  ')\n",
    "    \n",
    "def play(pos):\n",
    "    global turn\n",
    "    if turn%2==1:\n",
    "        board[pos-1]='X'\n",
    "    elif turn%2==0:\n",
    "        board[pos-1]='O'\n",
    "    turn+=1\n",
    "    display_board(board)\n",
    "    \n",
    "def mate():\n",
    "    #Check diagonals\n",
    "    if (board[0]==board[4]==board[8] or board[2]==board[4]==board[6]) and board[4] != ' ':\n",
    "        return True\n",
    "    \n",
    "    #Check lines\n",
    "    for i in range(3):\n",
    "        if (board[i] == board[i+3] == board[i+6] and board[i] != ' ' ):\n",
    "            print(f'Lines:{i}')\n",
    "            return True\n",
    "        elif board[i*3]==board[i*3+1]==board[i*3+2] and board[i*3] != ' ':\n",
    "            print(f'Lines:{i}')\n",
    "            return True\n",
    "    else: \n",
    "        return False\n",
    "    \n",
    "def full():\n",
    "    for i in board:\n",
    "        if i == ' ':\n",
    "            return False\n",
    "    else: \n",
    "        return True\n",
    "\n",
    "def def_pos():\n",
    "    global pos\n",
    "    user_input = input(f'player {(turn%2)}, select your tile')\n",
    "    try:\n",
    "        pos = int(user_input)\n",
    "        if 0<pos<10 and board[pos-1]==' ':\n",
    "            return pos\n",
    "        else:\n",
    "            print(\"Enter a number from 1 through 9 that hasn't already been played\")\n",
    "            return def_pos()\n",
    "    except ValueError:\n",
    "        print(\"Enter a number from 1 through 9 that hasn't already been played\")\n",
    "        return def_pos()\n",
    "    \n",
    "def hajime():\n",
    "    display_board([1,2,3,4,5,6,7,8,9])\n",
    "    while(not(mate()) and not(full()) ):\n",
    "        global pos\n",
    "        global replay\n",
    "        def_pos()\n",
    "        play(pos)\n",
    "        clear_output()\n",
    "        display_board(board)    \n",
    "    if mate():\n",
    "        print(f'player {((turn-1)%2)+1} won')\n",
    "    elif full():\n",
    "        print(\"It's a tie\")\n",
    "    while replay != 'yes' or replay != 'no':\n",
    "        replay = input('Do you want to replay?').lower()\n",
    "        if replay == 'yes':\n",
    "            reset()\n",
    "        elif replay == 'no':\n",
    "            break"
   ]
  },
  {
   "cell_type": "code",
   "execution_count": 2,
   "metadata": {},
   "outputs": [
    {
     "name": "stdout",
     "output_type": "stream",
     "text": [
      "     |   |  \n",
      "   X | O | O\n",
      "     |   |  \n",
      "---------------\n",
      "     |   |  \n",
      "     | X |  \n",
      "     |   |  \n",
      "---------------\n",
      "     |   |  \n",
      "     |   | X\n",
      "     |   |  \n",
      "player 2 won\n",
      "Do you want to replay?NO\n"
     ]
    }
   ],
   "source": [
    "reset()"
   ]
  },
  {
   "cell_type": "code",
   "execution_count": 6,
   "metadata": {},
   "outputs": [
    {
     "name": "stdout",
     "output_type": "stream",
     "text": [
      ".X.\n",
      ".O.\n",
      ".O.\n",
      ". .\n",
      ".X.\n",
      ". .\n",
      ". .\n",
      ". .\n",
      ".X.\n"
     ]
    }
   ],
   "source": [
    "for i in board:\n",
    "    print(f'.{i}.')"
   ]
  },
  {
   "cell_type": "code",
   "execution_count": 7,
   "metadata": {},
   "outputs": [
    {
     "name": "stdout",
     "output_type": "stream",
     "text": [
      "['X', 'O', 'O', ' ', 'X', ' ', ' ', ' ', 'X']\n"
     ]
    }
   ],
   "source": [
    "print(board)"
   ]
  }
 ],
 "metadata": {
  "kernelspec": {
   "display_name": "Python 3",
   "language": "python",
   "name": "python3"
  },
  "language_info": {
   "codemirror_mode": {
    "name": "ipython",
    "version": 3
   },
   "file_extension": ".py",
   "mimetype": "text/x-python",
   "name": "python",
   "nbconvert_exporter": "python",
   "pygments_lexer": "ipython3",
   "version": "3.8.5"
  }
 },
 "nbformat": 4,
 "nbformat_minor": 2
}
